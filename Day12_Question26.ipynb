{
 "cells": [
  {
   "cell_type": "code",
   "execution_count": 1,
   "id": "cb53a5de-b08a-4dc1-88b4-12fab66fd4ba",
   "metadata": {},
   "outputs": [],
   "source": [
    "import numpy as np\n",
    "import pandas as pd\n",
    "import matplotlib.pyplot as plt"
   ]
  },
  {
   "cell_type": "code",
   "execution_count": 2,
   "id": "f51ce115-3760-463e-a6d6-5659a207f254",
   "metadata": {},
   "outputs": [],
   "source": [
    "from sklearn.model_selection import train_test_split, cross_val_score\n",
    "from sklearn.preprocessing import LabelEncoder\n",
    "from sklearn.pipeline import Pipeline\n",
    "from sklearn.compose import ColumnTransformer\n",
    "from sklearn.impute import SimpleImputer\n",
    "from sklearn.ensemble import RandomForestClassifier, ExtraTreesClassifier, AdaBoostClassifier, GradientBoostingClassifier\n",
    "from sklearn.tree import DecisionTreeClassifier\n",
    "from sklearn.metrics import accuracy_score"
   ]
  },
  {
   "cell_type": "code",
   "execution_count": 3,
   "id": "d9c8fff7-d231-4acf-90e1-aa19fb83f4de",
   "metadata": {},
   "outputs": [
    {
     "name": "stdout",
     "output_type": "stream",
     "text": [
      "   Unnamed: 0 experience                                    job_description  \\\n",
      "0           0    5-7 yrs  Exp: Minimum 5 years;Good understanding of IOC...   \n",
      "1           1  10-17 yrs  He should have handled a team of atleast 5-6 d...   \n",
      "2           2    5-9 yrs  Must be an effective communicator (written & s...   \n",
      "3           3   7-10 yrs  7  -  10 years of overall experience in data e...   \n",
      "4           4    1-3 yrs  Chartered Accountancy degree or MBA in Finance...   \n",
      "\n",
      "                                           job_desig   job_type  \\\n",
      "0        Senior Exploit and Vulnerability Researcher        NaN   \n",
      "1                                           Head SCM        NaN   \n",
      "2  Deputy Manager - Talent Management & Leadershi...  Analytics   \n",
      "3                 Associate Manager Data Engineering  Analytics   \n",
      "4                            TS- GSA- Senior Analyst        NaN   \n",
      "\n",
      "                                          key_skills               location  \\\n",
      "0  team skills, communication skills, analytical ...  Delhi NCR(Vikas Puri)   \n",
      "1  ppc, logistics, inventory management, supply c...                Sonepat   \n",
      "2  HR Analytics, Employee Engagement, Training, S...              Delhi NCR   \n",
      "3  SQL, Javascript, Automation, Python, Ruby, Ana...              Bengaluru   \n",
      "4  accounting, finance, cash flow, financial plan...                Gurgaon   \n",
      "\n",
      "   salary  company_name_encoded  \n",
      "0   6to10                  3687  \n",
      "1  10to15                   458  \n",
      "2  15to25                  4195  \n",
      "3  10to15                   313  \n",
      "4    3to6                  1305  \n"
     ]
    }
   ],
   "source": [
    "path=r\"Predict-The-Data-Scientists-Salary-In-India_Train_Dataset.csv\"\n",
    "df = pd.read_csv(path)\n",
    "\n",
    "print(df.head())"
   ]
  },
  {
   "cell_type": "code",
   "execution_count": 4,
   "id": "e79475d5-a4b8-4552-9806-5ad97ced4ac4",
   "metadata": {},
   "outputs": [
    {
     "name": "stdout",
     "output_type": "stream",
     "text": [
      "Index(['Unnamed: 0', 'experience', 'job_description', 'job_desig', 'job_type',\n",
      "       'key_skills', 'location', 'salary', 'company_name_encoded'],\n",
      "      dtype='object')\n"
     ]
    }
   ],
   "source": [
    "print(df.columns)"
   ]
  },
  {
   "cell_type": "code",
   "execution_count": 5,
   "id": "a126bb64-6c7b-424b-a984-52c3b6d55194",
   "metadata": {},
   "outputs": [
    {
     "data": {
      "text/plain": [
       "0          5-7 yrs\n",
       "1        10-17 yrs\n",
       "2          5-9 yrs\n",
       "3         7-10 yrs\n",
       "4          1-3 yrs\n",
       "           ...    \n",
       "19797    12-18 yrs\n",
       "19798      0-3 yrs\n",
       "19799     8-13 yrs\n",
       "19800      1-3 yrs\n",
       "19801      2-5 yrs\n",
       "Name: experience, Length: 19802, dtype: object"
      ]
     },
     "execution_count": 5,
     "metadata": {},
     "output_type": "execute_result"
    }
   ],
   "source": [
    "df['experience']"
   ]
  },
  {
   "cell_type": "code",
   "execution_count": 6,
   "id": "246c90bd-e08d-46f8-83a5-5cd504a520af",
   "metadata": {},
   "outputs": [],
   "source": [
    "df[['min_exp', 'max_exp']] = df['experience'].str.split('-', expand=True)\n",
    "df['min_exp'] = pd.to_numeric(df['min_exp'], errors='coerce')\n",
    "df['max_exp'] = pd.to_numeric(df['max_exp'], errors='coerce')"
   ]
  },
  {
   "cell_type": "code",
   "execution_count": 7,
   "id": "f1a64419-419a-4ef8-bf72-52916f03a854",
   "metadata": {},
   "outputs": [],
   "source": [
    "le_location = LabelEncoder()\n",
    "le_salary = LabelEncoder()\n",
    "\n",
    "df['Location_encoded'] = le_location.fit_transform(df['location'])\n",
    "df['Salary_encoded'] = le_salary.fit_transform(df['salary'])\n",
    "\n",
    "\n",
    "X = df[['company_name_encoded',  'Location_encoded']]\n",
    "y = df['Salary_encoded']"
   ]
  },
  {
   "cell_type": "code",
   "execution_count": 8,
   "id": "7e51995c-ffca-4555-aefb-165236871b8e",
   "metadata": {},
   "outputs": [
    {
     "data": {
      "text/plain": [
       "Index(['Unnamed: 0', 'experience', 'job_description', 'job_desig', 'job_type',\n",
       "       'key_skills', 'location', 'salary', 'company_name_encoded', 'min_exp',\n",
       "       'max_exp', 'Location_encoded', 'Salary_encoded'],\n",
       "      dtype='object')"
      ]
     },
     "execution_count": 8,
     "metadata": {},
     "output_type": "execute_result"
    }
   ],
   "source": [
    "df.columns"
   ]
  },
  {
   "cell_type": "code",
   "execution_count": 9,
   "id": "5c229d6a-d2a4-4b65-96c1-83d6e29c0741",
   "metadata": {},
   "outputs": [],
   "source": [
    "X_train, X_val, y_train, y_val = train_test_split(X, y, test_size=0.2, random_state=42)"
   ]
  },
  {
   "cell_type": "code",
   "execution_count": 10,
   "id": "1ec0a197-f44a-4d0b-b454-b4f69e26322e",
   "metadata": {},
   "outputs": [],
   "source": [
    "classifiers = {\n",
    "    \"Decision Tree\": DecisionTreeClassifier(),\n",
    "    \"Random Forest\": RandomForestClassifier(n_estimators=100),\n",
    "    \"Extra Trees\": ExtraTreesClassifier(n_estimators=100),\n",
    "    \"AdaBoost\": AdaBoostClassifier(n_estimators=100),\n",
    "    \"Gradient Boosting\": GradientBoostingClassifier(n_estimators=100)\n",
    "}"
   ]
  },
  {
   "cell_type": "code",
   "execution_count": 11,
   "id": "23583dc5-21d5-49b7-8a9e-fbebc6f48442",
   "metadata": {},
   "outputs": [
    {
     "name": "stdout",
     "output_type": "stream",
     "text": [
      "Accuracy scores:\n",
      " {'Decision Tree': 0.35521332996718, 'Random Forest': 0.3557182529664226, 'Extra Trees': 0.36076748295884875, 'AdaBoost': 0.2638222671042666, 'Gradient Boosting': 0.3337541024993688}\n"
     ]
    }
   ],
   "source": [
    "results = {}\n",
    "for name, clf in classifiers.items():\n",
    "    clf.fit(X_train, y_train)\n",
    "    y_pred = clf.predict(X_val)\n",
    "    acc = accuracy_score(y_val, y_pred)\n",
    "    results[name] = acc\n",
    "\n",
    "print(\"Accuracy scores:\\n\", results)"
   ]
  },
  {
   "cell_type": "code",
   "execution_count": 12,
   "id": "377a61e7-b3d2-43d2-aa18-87242984baed",
   "metadata": {},
   "outputs": [
    {
     "name": "stdout",
     "output_type": "stream",
     "text": [
      "Best Model: Extra Trees\n"
     ]
    }
   ],
   "source": [
    "best_model_name = max(results, key=results.get)\n",
    "print(\"Best Model:\", best_model_name)"
   ]
  },
  {
   "cell_type": "code",
   "execution_count": null,
   "id": "b480c455-223a-41cc-abaf-79af0e4452b3",
   "metadata": {},
   "outputs": [],
   "source": []
  }
 ],
 "metadata": {
  "kernelspec": {
   "display_name": "Python 3 (ipykernel)",
   "language": "python",
   "name": "python3"
  },
  "language_info": {
   "codemirror_mode": {
    "name": "ipython",
    "version": 3
   },
   "file_extension": ".py",
   "mimetype": "text/x-python",
   "name": "python",
   "nbconvert_exporter": "python",
   "pygments_lexer": "ipython3",
   "version": "3.12.8"
  }
 },
 "nbformat": 4,
 "nbformat_minor": 5
}
